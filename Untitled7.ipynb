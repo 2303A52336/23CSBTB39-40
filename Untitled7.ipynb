{
  "nbformat": 4,
  "nbformat_minor": 0,
  "metadata": {
    "colab": {
      "provenance": [],
      "authorship_tag": "ABX9TyOhI0im4gS0GOqdKm8lp4lh",
      "include_colab_link": true
    },
    "kernelspec": {
      "name": "python3",
      "display_name": "Python 3"
    },
    "language_info": {
      "name": "python"
    }
  },
  "cells": [
    {
      "cell_type": "markdown",
      "metadata": {
        "id": "view-in-github",
        "colab_type": "text"
      },
      "source": [
        "<a href=\"https://colab.research.google.com/github/2303A52336/23CSBTB39-40/blob/main/Untitled7.ipynb\" target=\"_parent\"><img src=\"https://colab.research.google.com/assets/colab-badge.svg\" alt=\"Open In Colab\"/></a>"
      ]
    },
    {
      "cell_type": "code",
      "execution_count": 2,
      "metadata": {
        "colab": {
          "base_uri": "https://localhost:8080/"
        },
        "id": "FaAAHSc8C5AN",
        "outputId": "f05d32fb-a540-4a8a-cd72-45307b78d0c1"
      },
      "outputs": [
        {
          "output_type": "stream",
          "name": "stdout",
          "text": [
            "mean of x: 2.89\n",
            "median of x: 2.8499999999999996\n",
            "mode of x: ModeResult(mode=2.8, count=2)\n",
            "variance of x: 0.12090000000000005\n",
            "standard deviation of x: 0.3477067730142743\n",
            "range of x: 1.3000000000000003\n",
            "interquartile range of x: 0.3500000000000001\n",
            "skewness of x: 0.2980178611012123\n",
            "kurtosis of x: -0.18689850931906538\n"
          ]
        }
      ],
      "source": [
        "import numpy as np\n",
        "import matplotlib.pyplot\n",
        "x=[2.3,2.5,3.6,2.8,3.1,2.9,3.2,2.7,2.8,3.0]\n",
        "mean_x=np.mean(x)\n",
        "print(\"mean of x:\",mean_x)\n",
        "median_x=np.median(x)\n",
        "print(\"median of x:\",median_x)\n",
        "from scipy import stats\n",
        "mode_x=stats.mode(x)\n",
        "print(\"mode of x:\",mode_x)\n",
        "var_x=np.var(x)\n",
        "print(\"variance of x:\",var_x)\n",
        "std_x=np.std(x)\n",
        "print(\"standard deviation of x:\",std_x)\n",
        "range_x=np.max(x)-np.min(x)\n",
        "print(\"range of x:\",range_x)\n",
        "q1_x=np.percentile(x,25)\n",
        "q3_x=np.percentile(x,75)\n",
        "iqr_x=q3_x-q1_x\n",
        "print(\"interquartile range of x:\",iqr_x)\n",
        "skew_x=stats.skew(x)\n",
        "print(\"skewness of x:\",skew_x)\n",
        "kurt_x=stats.kurtosis(x)\n",
        "print(\"kurtosis of x:\",kurt_x)"
      ]
    }
  ]
}