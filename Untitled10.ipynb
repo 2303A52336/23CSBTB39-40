{
  "nbformat": 4,
  "nbformat_minor": 0,
  "metadata": {
    "colab": {
      "provenance": [],
      "authorship_tag": "ABX9TyOr4WZOLsQR8DHtotQ0PAbn",
      "include_colab_link": true
    },
    "kernelspec": {
      "name": "python3",
      "display_name": "Python 3"
    },
    "language_info": {
      "name": "python"
    }
  },
  "cells": [
    {
      "cell_type": "markdown",
      "metadata": {
        "id": "view-in-github",
        "colab_type": "text"
      },
      "source": [
        "<a href=\"https://colab.research.google.com/github/2303A52336/23CSBTB39-40/blob/main/Untitled10.ipynb\" target=\"_parent\"><img src=\"https://colab.research.google.com/assets/colab-badge.svg\" alt=\"Open In Colab\"/></a>"
      ]
    },
    {
      "cell_type": "code",
      "execution_count": 3,
      "metadata": {
        "colab": {
          "base_uri": "https://localhost:8080/"
        },
        "id": "IDHYWaw2HcgP",
        "outputId": "632271bf-5608-4c26-8ebc-344f90de658c"
      },
      "outputs": [
        {
          "output_type": "stream",
          "name": "stdout",
          "text": [
            "mean of x: 60.714285714285715\n",
            "mean of y: 32.0\n",
            "median of x: 63.0\n",
            "median of y: 28.0\n",
            "mode of x: ModeResult(mode=33, count=1)\n",
            "mode of y: ModeResult(mode=12, count=1)\n",
            "variance of x: 387.6326530612245\n",
            "variance of y: 268.0\n",
            "standard deviation of x: 19.68838878784205\n",
            "standard deviation of y: 16.3707055437449\n",
            "range of x: 55\n",
            "range of y: 44\n",
            "interquartile range of x: 32.5\n",
            "interquartile range of y: 28.0\n",
            "skewness of x: -0.10160487226954186\n",
            "skewness of y: 0.18755223867066048\n",
            "kurtosis of x: -1.4265295827972655\n",
            "kurtosis of y: -1.47684021258314\n"
          ]
        }
      ],
      "source": [
        "import numpy as np\n",
        "import pandas as pd\n",
        "from scipy import stats\n",
        "import matplotlib.pyplot as plt\n",
        "dependent_variables=[12,13,56,23,41,28,51]\n",
        "independent_variables=[51,63,37,88,33,72,81]\n",
        "mean_x=np.mean(independent_variables)\n",
        "mean_y=np.mean(dependent_variables)\n",
        "print(\"mean of x:\",mean_x)\n",
        "print(\"mean of y:\",mean_y)\n",
        "median_x=np.median(independent_variables)\n",
        "median_y=np.median(dependent_variables)\n",
        "print(\"median of x:\",median_x)\n",
        "print(\"median of y:\",median_y)\n",
        "mode_x=stats.mode(independent_variables)\n",
        "mode_y=stats.mode(dependent_variables)\n",
        "print(\"mode of x:\",mode_x)\n",
        "print(\"mode of y:\",mode_y)\n",
        "var_x=np.var(independent_variables)\n",
        "var_y=np.var(dependent_variables)\n",
        "print(\"variance of x:\",var_x)\n",
        "print(\"variance of y:\",var_y)\n",
        "std_x=np.std(independent_variables)\n",
        "std_y=np.std(dependent_variables)\n",
        "print(\"standard deviation of x:\",std_x)\n",
        "print(\"standard deviation of y:\",std_y)\n",
        "range_x=np.max(independent_variables)-np.min(independent_variables)\n",
        "range_y=np.max(dependent_variables)-np.min(dependent_variables)\n",
        "print(\"range of x:\",range_x)\n",
        "print(\"range of y:\",range_y)\n",
        "q1_x=np.percentile(independent_variables,25)\n",
        "q3_x=np.percentile(independent_variables,75)\n",
        "iqr_x=q3_x-q1_x\n",
        "print(\"interquartile range of x:\",iqr_x)\n",
        "q1_y=np.percentile(dependent_variables,25)\n",
        "q3_y=np.percentile(dependent_variables,75)\n",
        "iqr_y=q3_y-q1_y\n",
        "print(\"interquartile range of y:\",iqr_y)\n",
        "skew_x=stats.skew(independent_variables)\n",
        "skew_y=stats.skew(dependent_variables)\n",
        "print(\"skewness of x:\",skew_x)\n",
        "print(\"skewness of y:\",skew_y)\n",
        "kurt_x=stats.kurtosis(independent_variables)\n",
        "kurt_y=stats.kurtosis(dependent_variables)\n",
        "print(\"kurtosis of x:\",kurt_x)\n",
        "print(\"kurtosis of y:\",kurt_y)"
      ]
    }
  ]
}