{
  "nbformat": 4,
  "nbformat_minor": 0,
  "metadata": {
    "colab": {
      "provenance": [],
      "authorship_tag": "ABX9TyPBnVE9jYBJ+pwJAW3gKl6j",
      "include_colab_link": true
    },
    "kernelspec": {
      "name": "python3",
      "display_name": "Python 3"
    },
    "language_info": {
      "name": "python"
    }
  },
  "cells": [
    {
      "cell_type": "markdown",
      "metadata": {
        "id": "view-in-github",
        "colab_type": "text"
      },
      "source": [
        "<a href=\"https://colab.research.google.com/github/2303A52336/23CSBTB39-40/blob/main/Untitled11.ipynb\" target=\"_parent\"><img src=\"https://colab.research.google.com/assets/colab-badge.svg\" alt=\"Open In Colab\"/></a>"
      ]
    },
    {
      "cell_type": "code",
      "execution_count": 1,
      "metadata": {
        "colab": {
          "base_uri": "https://localhost:8080/"
        },
        "id": "76AU8qi4KE6Q",
        "outputId": "a47cccae-d3c5-464c-ce5d-4fb6a2d57a4e"
      },
      "outputs": [
        {
          "output_type": "stream",
          "name": "stdout",
          "text": [
            "mean of x: 3.746153846153846\n",
            "median of x: 3.1\n",
            "mode of x: ModeResult(mode=2.6, count=2)\n",
            "variance of x: 6.147100591715977\n",
            "standard deviation of x: 2.4793347074802097\n",
            "range of x: 9.7\n",
            "interquartile range of x: 1.2999999999999998\n",
            "skewness of x: 1.8747042061161974\n",
            "kurtosis of x: 2.9478483416827777\n"
          ]
        }
      ],
      "source": [
        "import numpy as np\n",
        "import pandas as pd\n",
        "from scipy import stats\n",
        "import matplotlib.pyplot as plt\n",
        "x=[1.3,1.5,2.6,2.6,3.2,3.9,4.2,3.7,3.10,3.0,11,6.7,1.9]\n",
        "#mean\n",
        "mean_x=np.mean(x)\n",
        "print(\"mean of x:\",mean_x)\n",
        "#median\n",
        "median_x=np.median(x)\n",
        "print(\"median of x:\",median_x)\n",
        "#mode\n",
        "from scipy import stats\n",
        "mode_x=stats.mode(x)\n",
        "print(\"mode of x:\",mode_x)\n",
        "#variance\n",
        "var_x=np.var(x)\n",
        "print(\"variance of x:\",var_x)\n",
        "#standard deviation\n",
        "std_x=np.std(x)\n",
        "print(\"standard deviation of x:\",std_x)\n",
        "#range\n",
        "range_x=np.max(x)-np.min(x)\n",
        "print(\"range of x:\",range_x)\n",
        "#interquatile(IQR)\n",
        "q1_x=np.percentile(x,25)\n",
        "q3_x=np.percentile(x,75)\n",
        "iqr_x=q3_x-q1_x\n",
        "print(\"interquartile range of x:\",iqr_x)\n",
        "#skewness\n",
        "skew_x=stats.skew(x)\n",
        "print(\"skewness of x:\",skew_x)\n",
        "#kurtosis\n",
        "kurt_x=stats.kurtosis(x)\n",
        "print(\"kurtosis of x:\",kurt_x)\n"
      ]
    }
  ]
}