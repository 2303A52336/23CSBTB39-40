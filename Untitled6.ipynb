{
  "nbformat": 4,
  "nbformat_minor": 0,
  "metadata": {
    "colab": {
      "provenance": [],
      "authorship_tag": "ABX9TyNiYedBKRUmVuDVlpfC2Axb",
      "include_colab_link": true
    },
    "kernelspec": {
      "name": "python3",
      "display_name": "Python 3"
    },
    "language_info": {
      "name": "python"
    }
  },
  "cells": [
    {
      "cell_type": "markdown",
      "metadata": {
        "id": "view-in-github",
        "colab_type": "text"
      },
      "source": [
        "<a href=\"https://colab.research.google.com/github/2303A52336/23CSBTB39-40/blob/main/Untitled6.ipynb\" target=\"_parent\"><img src=\"https://colab.research.google.com/assets/colab-badge.svg\" alt=\"Open In Colab\"/></a>"
      ]
    },
    {
      "cell_type": "code",
      "execution_count": 2,
      "metadata": {
        "colab": {
          "base_uri": "https://localhost:8080/"
        },
        "id": "esgUYIdhApQR",
        "outputId": "28582a54-8cb7-4184-a1c7-4f82a02acf25"
      },
      "outputs": [
        {
          "output_type": "stream",
          "name": "stdout",
          "text": [
            "mean of x: 5.714285714285714\n",
            "mean of y: 4.285714285714286\n",
            "median of x: 6.0\n",
            "median of y: 4.0\n",
            "mode of x: ModeResult(mode=3, count=2)\n",
            "mode of y: ModeResult(mode=2, count=2)\n",
            "variance of x: 3.918367346938776\n",
            "variance of y: 3.6326530612244894\n",
            "standard deviation of x: 1.979486637221574\n",
            "standard deviation of y: 1.9059520091609048\n",
            "range of x: 5\n",
            "range of y: 6\n",
            "interquartile range of x: 3.5\n",
            "interquartile range of y: 2.0\n",
            "skewness of x: -0.26386711521557127\n",
            "skewness of y: 0.5785710902698393\n",
            "kurtosis of x: -1.4541015625000002\n",
            "kurtosis of y: -0.34282287589950755\n"
          ]
        }
      ],
      "source": [
        "import numpy as np\n",
        "import matplotlib.pyplot as plt\n",
        "dependent_variable=[4,5,8,2,4,2,5]\n",
        "independent_variable=[5,6,3,8,3,7,8]\n",
        "mean_x=np.mean(independent_variable)\n",
        "mean_y=np.mean(dependent_variable)\n",
        "print(\"mean of x:\",mean_x)\n",
        "print(\"mean of y:\",mean_y)\n",
        "median_x=np.median(independent_variable)\n",
        "median_y=np.median(dependent_variable)\n",
        "print(\"median of x:\",median_x)\n",
        "print(\"median of y:\",median_y)\n",
        "from scipy import stats\n",
        "mode_x=stats.mode(independent_variable)\n",
        "mode_y=stats.mode(dependent_variable)\n",
        "print(\"mode of x:\",mode_x)\n",
        "print(\"mode of y:\",mode_y)\n",
        "var_x=np.var(independent_variable)\n",
        "var_y=np.var(dependent_variable)\n",
        "print(\"variance of x:\",var_x)\n",
        "print(\"variance of y:\",var_y)\n",
        "std_x=np.std(independent_variable)\n",
        "std_y=np.std(dependent_variable)\n",
        "print(\"standard deviation of x:\",std_x)\n",
        "print(\"standard deviation of y:\",std_y)\n",
        "range_x=max(independent_variable)-min(independent_variable)\n",
        "range_y=max(dependent_variable)-min(dependent_variable)\n",
        "print(\"range of x:\",range_x)\n",
        "print(\"range of y:\",range_y)\n",
        "q1_x=np.percentile(independent_variable,25)\n",
        "q3_x=np.percentile(independent_variable,75)\n",
        "iqr_x=q3_x-q1_x\n",
        "print(\"interquartile range of x:\",iqr_x)\n",
        "q1_y=np.percentile(dependent_variable,25)\n",
        "q3_y=np.percentile(dependent_variable,75)\n",
        "iqr_y=q3_y-q1_y\n",
        "print(\"interquartile range of y:\",iqr_y)\n",
        "skew_x=stats.skew(independent_variable)\n",
        "skew_y=stats.skew(dependent_variable)\n",
        "print(\"skewness of x:\",skew_x)\n",
        "print(\"skewness of y:\",skew_y)\n",
        "kurt_x=stats.kurtosis(independent_variable)\n",
        "kurt_y=stats.kurtosis(dependent_variable)\n",
        "print(\"kurtosis of x:\",kurt_x)\n",
        "print(\"kurtosis of y:\",kurt_y)"
      ]
    }
  ]
}