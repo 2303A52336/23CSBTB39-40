{
  "nbformat": 4,
  "nbformat_minor": 0,
  "metadata": {
    "colab": {
      "provenance": [],
      "authorship_tag": "ABX9TyOz21s43ZxoLNuC4Qi7AD/5",
      "include_colab_link": true
    },
    "kernelspec": {
      "name": "python3",
      "display_name": "Python 3"
    },
    "language_info": {
      "name": "python"
    }
  },
  "cells": [
    {
      "cell_type": "markdown",
      "metadata": {
        "id": "view-in-github",
        "colab_type": "text"
      },
      "source": [
        "<a href=\"https://colab.research.google.com/github/2303A52336/23CSBTB39-40/blob/main/Untitled14.ipynb\" target=\"_parent\"><img src=\"https://colab.research.google.com/assets/colab-badge.svg\" alt=\"Open In Colab\"/></a>"
      ]
    },
    {
      "cell_type": "code",
      "execution_count": 4,
      "metadata": {
        "colab": {
          "base_uri": "https://localhost:8080/"
        },
        "id": "9C_-pMyaFCLw",
        "outputId": "6f0abb6d-2d69-45b4-b929-75b120d97202"
      },
      "outputs": [
        {
          "output_type": "stream",
          "name": "stdout",
          "text": [
            "    st id st name course  contact number\n",
            "0    2110       a    cse            2345\n",
            "1    2111       b    eee            4637\n",
            "2    2112       c    ece            7472\n",
            "3    2113       d   aiml            6491\n",
            "4    2114       e     ds            3322\n",
            "5    2115       f   mech            3937\n",
            "6    2116       g  civil            1837\n",
            "7    2117       h    bba            3722\n",
            "8    2118       i    bsc            8383\n",
            "9    2119       j    cs             2367\n",
            "10   2120       k    mba            8753\n"
          ]
        }
      ],
      "source": [
        "import pandas as pd\n",
        "df=pd.read_excel(\"student.xls.xlsx\")\n",
        "print(df)"
      ]
    },
    {
      "cell_type": "code",
      "source": [
        "from queue import Queue\n",
        "graph={0:[1,2,3],\n",
        "       1:[0,2],\n",
        "       2:[1,3,5],\n",
        "       3:[0,2,4],\n",
        "       4:[3,5,7,],\n",
        "       5:[2,4,6,7],\n",
        "       6:[5,7],\n",
        "       7:[]}\n",
        "print(\"The adjacency list representing the graph is:\")\n",
        "print(graph)\n",
        "def bfs(graph,source):\n",
        "  Q=Queue()\n",
        "  Q.put(source)\n",
        "  visited_vertices = set() # Initialize visited_vertices as a set\n",
        "  visited_vertices.update({source})\n",
        "  while not Q.empty():\n",
        "    vertex=Q.get()\n",
        "    print(vertex,end=\"-->\")\n",
        "    for u in graph[vertex]:\n",
        "      if u not in visited_vertices:\n",
        "        Q.put(u)\n",
        "        visited_vertices.update({u})\n",
        "print(\"BFS traversal of graph with source1 is:\")\n",
        "bfs(graph,1)"
      ],
      "metadata": {
        "colab": {
          "base_uri": "https://localhost:8080/"
        },
        "id": "Wbczpax8Tnf-",
        "outputId": "2b613e96-9dd7-41dd-a3ba-c4ea645f694d"
      },
      "execution_count": 5,
      "outputs": [
        {
          "output_type": "stream",
          "name": "stdout",
          "text": [
            "The adjacency list representing the graph is:\n",
            "{0: [1, 2, 3], 1: [0, 2], 2: [1, 3, 5], 3: [0, 2, 4], 4: [3, 5, 7], 5: [2, 4, 6, 7], 6: [5, 7], 7: []}\n",
            "BFS traversal of graph with source1 is:\n",
            "1-->0-->2-->3-->5-->4-->6-->7-->"
          ]
        }
      ]
    }
  ]
}